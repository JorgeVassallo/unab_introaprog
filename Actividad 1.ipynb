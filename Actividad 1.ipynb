{
 "cells": [
  {
   "cell_type": "code",
   "execution_count": 9,
   "metadata": {},
   "outputs": [
    {
     "name": "stdout",
     "output_type": "stream",
     "text": [
      "la cantidad de panes necesaria es:  2.0\n",
      "la cantidad de huevos necesarios es:  3.0\n",
      "la cantidad de azucar necesaria (en gramos) es:  500\n",
      "la cantidad de tazas de agua necesaria es:  1.0\n"
     ]
    }
   ],
   "source": [
    "personas = int(input(\"Ingrese cantidad de personas para la receta: \"))\n",
    "panes = print(\"la cantidad de panes necesaria es: \", 0.5 * (personas))\n",
    "huevos = print(\"la cantidad de huevos necesarios es: \", 0.75 * (personas))\n",
    "azucar = print(\"la cantidad de azucar necesaria (en gramos) es: \", 125 * (personas)) #la medida son gramos\n",
    "tazas_agua = print(\"la cantidad de tazas de agua necesaria es: \", 0.25 * (personas)) \n"
   ]
  }
 ],
 "metadata": {
  "interpreter": {
   "hash": "5f0280e34ee8e3b8f0e3797cd5107f405d336132dc56f80a5fd9f86184bf37e2"
  },
  "kernelspec": {
   "display_name": "Python 3.10.0 64-bit",
   "name": "python3"
  },
  "language_info": {
   "codemirror_mode": {
    "name": "ipython",
    "version": 3
   },
   "file_extension": ".py",
   "mimetype": "text/x-python",
   "name": "python",
   "nbconvert_exporter": "python",
   "pygments_lexer": "ipython3",
   "version": "3.10.0"
  },
  "orig_nbformat": 4
 },
 "nbformat": 4,
 "nbformat_minor": 2
}
