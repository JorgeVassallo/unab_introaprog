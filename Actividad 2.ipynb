{
 "cells": [
  {
   "cell_type": "code",
   "execution_count": 12,
   "metadata": {},
   "outputs": [
    {
     "name": "stdout",
     "output_type": "stream",
     "text": [
      "La cantidad de alumnos en total es de:  1246\n",
      "El porcentaje de alumnos de universidades publicas sobre el total es de 63.16 %:\n",
      "El porcentaje de alumnos de universidades privadas sobre el total es de 36.84 %:\n"
     ]
    }
   ],
   "source": [
    "alumnospublicas = int(input(\"Ingrese cantidad de alumnos de establecimientos publicos: \"))\n",
    "alumnosprivadas = int(input(\"Ingrese cantidad de alumnos de establecimientos privados: \"))\n",
    "\n",
    "cant_totalalumnos = alumnospublicas + alumnosprivadas\n",
    "print(\"La cantidad de alumnos en total es de: \", cant_totalalumnos)\n",
    "\n",
    "porcentajepublicas = ((alumnospublicas * 100) / cant_totalalumnos)\n",
    "print(\"El porcentaje de alumnos de universidades publicas sobre el total es de {} %:\".format(round(porcentajepublicas, 2)))\n",
    "porcentajeprivadas = ((alumnosprivadas * 100) / cant_totalalumnos)\n",
    "print(\"El porcentaje de alumnos de universidades privadas sobre el total es de {} %:\".format(round(porcentajeprivadas, 2)))"
   ]
  }
 ],
 "metadata": {
  "interpreter": {
   "hash": "5f0280e34ee8e3b8f0e3797cd5107f405d336132dc56f80a5fd9f86184bf37e2"
  },
  "kernelspec": {
   "display_name": "Python 3.10.0 64-bit",
   "name": "python3"
  },
  "language_info": {
   "name": "python",
   "version": "3.10.0"
  },
  "orig_nbformat": 4
 },
 "nbformat": 4,
 "nbformat_minor": 2
}
